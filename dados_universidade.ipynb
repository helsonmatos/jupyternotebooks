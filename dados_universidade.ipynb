{
 "cells": [
  {
   "cell_type": "markdown",
   "id": "digital-keeping",
   "metadata": {},
   "source": [
    "# Graduate Admission 2\n",
    "### Predicting admission from important parameters"
   ]
  },
  {
   "cell_type": "markdown",
   "id": "occupied-vacuum",
   "metadata": {},
   "source": [
    "##### Mohan S Acharya, Asfia Armaan, Aneeta S Antony: A Comparison of Regression Models for Prediction of Graduate Admissions, IEEE International Conference on Computational Intelligence in Data Science 2019"
   ]
  },
  {
   "cell_type": "markdown",
   "id": "linear-costs",
   "metadata": {},
   "source": [
    "Link: https://www.kaggle.com/mohansacharya/graduate-admissions"
   ]
  },
  {
   "cell_type": "code",
   "execution_count": 1,
   "id": "piano-comfort",
   "metadata": {},
   "outputs": [],
   "source": [
    "#Importando o dataset\n",
    "import pandas as pd\n",
    "dados = pd.read_csv('Admission_Predict_Ver1.1.csv')"
   ]
  },
  {
   "cell_type": "markdown",
   "id": "suspected-atlanta",
   "metadata": {},
   "source": [
    "**The dataset contains several parameters which are considered important during the application for Masters Programs.\n",
    "The parameters included are:**\n",
    "\n",
    "1. GRE Scores ( out of 340 ) / Pontuações GRE (de 340)\n",
    "2. TOEFL Scores ( out of 120 ) / Pontuações do TOEFL (de 120)\n",
    "3. University Rating ( out of 5 ) / Classificação da universidade (em 5) \n",
    "4. Statement of Purpose and Letter of Recommendation Strength ( out of 5 ) / Declaração de finalidade e força da carta de ...\n",
    "5. Undergraduate GPA ( out of 10 ) / Graduação GPA (de 10)\n",
    "6. Research Experience ( either 0 or 1 ) / Experiência de pesquisa (0 ou 1)\n",
    "7. Chance of Admit ( ranging from 0 to 1 ) / Chance de admissão (variando de 0 a 1)"
   ]
  },
  {
   "cell_type": "code",
   "execution_count": 4,
   "id": "enclosed-sponsorship",
   "metadata": {},
   "outputs": [
    {
     "data": {
      "text/html": [
       "<div>\n",
       "<style scoped>\n",
       "    .dataframe tbody tr th:only-of-type {\n",
       "        vertical-align: middle;\n",
       "    }\n",
       "\n",
       "    .dataframe tbody tr th {\n",
       "        vertical-align: top;\n",
       "    }\n",
       "\n",
       "    .dataframe thead th {\n",
       "        text-align: right;\n",
       "    }\n",
       "</style>\n",
       "<table border=\"1\" class=\"dataframe\">\n",
       "  <thead>\n",
       "    <tr style=\"text-align: right;\">\n",
       "      <th></th>\n",
       "      <th>Serial No.</th>\n",
       "      <th>GRE Score</th>\n",
       "      <th>TOEFL Score</th>\n",
       "      <th>University Rating</th>\n",
       "      <th>SOP</th>\n",
       "      <th>LOR</th>\n",
       "      <th>CGPA</th>\n",
       "      <th>Research</th>\n",
       "      <th>Chance of Admit</th>\n",
       "    </tr>\n",
       "  </thead>\n",
       "  <tbody>\n",
       "    <tr>\n",
       "      <th>0</th>\n",
       "      <td>1</td>\n",
       "      <td>337</td>\n",
       "      <td>118</td>\n",
       "      <td>4</td>\n",
       "      <td>4.5</td>\n",
       "      <td>4.5</td>\n",
       "      <td>9.65</td>\n",
       "      <td>1</td>\n",
       "      <td>0.92</td>\n",
       "    </tr>\n",
       "    <tr>\n",
       "      <th>1</th>\n",
       "      <td>2</td>\n",
       "      <td>324</td>\n",
       "      <td>107</td>\n",
       "      <td>4</td>\n",
       "      <td>4.0</td>\n",
       "      <td>4.5</td>\n",
       "      <td>8.87</td>\n",
       "      <td>1</td>\n",
       "      <td>0.76</td>\n",
       "    </tr>\n",
       "    <tr>\n",
       "      <th>2</th>\n",
       "      <td>3</td>\n",
       "      <td>316</td>\n",
       "      <td>104</td>\n",
       "      <td>3</td>\n",
       "      <td>3.0</td>\n",
       "      <td>3.5</td>\n",
       "      <td>8.00</td>\n",
       "      <td>1</td>\n",
       "      <td>0.72</td>\n",
       "    </tr>\n",
       "    <tr>\n",
       "      <th>3</th>\n",
       "      <td>4</td>\n",
       "      <td>322</td>\n",
       "      <td>110</td>\n",
       "      <td>3</td>\n",
       "      <td>3.5</td>\n",
       "      <td>2.5</td>\n",
       "      <td>8.67</td>\n",
       "      <td>1</td>\n",
       "      <td>0.80</td>\n",
       "    </tr>\n",
       "    <tr>\n",
       "      <th>4</th>\n",
       "      <td>5</td>\n",
       "      <td>314</td>\n",
       "      <td>103</td>\n",
       "      <td>2</td>\n",
       "      <td>2.0</td>\n",
       "      <td>3.0</td>\n",
       "      <td>8.21</td>\n",
       "      <td>0</td>\n",
       "      <td>0.65</td>\n",
       "    </tr>\n",
       "  </tbody>\n",
       "</table>\n",
       "</div>"
      ],
      "text/plain": [
       "   Serial No.  GRE Score  TOEFL Score  University Rating  SOP  LOR   CGPA  \\\n",
       "0           1        337          118                  4  4.5   4.5  9.65   \n",
       "1           2        324          107                  4  4.0   4.5  8.87   \n",
       "2           3        316          104                  3  3.0   3.5  8.00   \n",
       "3           4        322          110                  3  3.5   2.5  8.67   \n",
       "4           5        314          103                  2  2.0   3.0  8.21   \n",
       "\n",
       "   Research  Chance of Admit   \n",
       "0         1              0.92  \n",
       "1         1              0.76  \n",
       "2         1              0.72  \n",
       "3         1              0.80  \n",
       "4         0              0.65  "
      ]
     },
     "execution_count": 4,
     "metadata": {},
     "output_type": "execute_result"
    }
   ],
   "source": [
    "dados.head()"
   ]
  },
  {
   "cell_type": "code",
   "execution_count": 7,
   "id": "smart-ladder",
   "metadata": {},
   "outputs": [],
   "source": [
    "#Excluindo coluna\n",
    "dados.drop('Serial No.',axis=1,inplace=True)"
   ]
  },
  {
   "cell_type": "code",
   "execution_count": 8,
   "id": "sharp-condition",
   "metadata": {},
   "outputs": [
    {
     "data": {
      "text/plain": [
       "GRE Score            0\n",
       "TOEFL Score          0\n",
       "University Rating    0\n",
       "SOP                  0\n",
       "LOR                  0\n",
       "CGPA                 0\n",
       "Research             0\n",
       "Chance of Admit      0\n",
       "dtype: int64"
      ]
     },
     "execution_count": 8,
     "metadata": {},
     "output_type": "execute_result"
    }
   ],
   "source": [
    "dados.isnull().sum()"
   ]
  },
  {
   "cell_type": "code",
   "execution_count": 10,
   "id": "studied-objective",
   "metadata": {},
   "outputs": [],
   "source": [
    "#Separando os dados de previsão e teste\n",
    "previsores = dados.drop('Chance of Admit ',axis=1)\n",
    "classe = dados['Chance of Admit ']"
   ]
  },
  {
   "cell_type": "code",
   "execution_count": 31,
   "id": "acquired-beatles",
   "metadata": {},
   "outputs": [],
   "source": [
    "#Separando os dados para teste e treino\n",
    "from sklearn.model_selection import train_test_split \n",
    "x_treino,x_teste,y_treino,y_teste = train_test_split(previsores,classe, test_size=0.25, random_state=45)"
   ]
  },
  {
   "cell_type": "code",
   "execution_count": 32,
   "id": "surgical-sitting",
   "metadata": {},
   "outputs": [],
   "source": [
    "#Função para testar vários modelos de regressão\n",
    "def modelos_regressores(a,b,c,d):\n",
    "    from sklearn.linear_model import LinearRegression\n",
    "    from sklearn.linear_model import Ridge\n",
    "    from sklearn.linear_model import Lasso\n",
    "    from sklearn.linear_model import ElasticNet\n",
    "    \n",
    "    x_treino = a\n",
    "    y_treino = b  \n",
    "    x_teste = c\n",
    "    y_teste = d  \n",
    "    linear = LinearRegression()\n",
    "    ridge = Ridge()\n",
    "    lasso = Lasso()\n",
    "    elastic = ElasticNet()\n",
    "    \n",
    "    linear.fit(x_treino,y_treino)\n",
    "    ridge.fit(x_treino,y_treino)\n",
    "    lasso.fit(x_treino,y_treino)\n",
    "    elastic.fit(x_treino,y_treino)\n",
    "    \n",
    "    print(f\"\"\"\n",
    "    Regressão Linear = {linear.score(x_teste,y_teste)}\n",
    "    Regressão Ridge = {ridge.score(x_teste,y_teste)}\n",
    "    Regressão Lasso = {lasso.score(x_teste,y_teste)}\n",
    "    Regressão ElasticNet = {elastic.score(x_teste,y_teste)}\n",
    "    \"\"\")"
   ]
  },
  {
   "cell_type": "code",
   "execution_count": 33,
   "id": "activated-broadway",
   "metadata": {},
   "outputs": [
    {
     "name": "stdout",
     "output_type": "stream",
     "text": [
      "\n",
      "    Regressão Linear = 0.842323882631776\n",
      "    Regressão Ridge = 0.8423277438321499\n",
      "    Regressão Lasso = 0.24217659796383995\n",
      "    Regressão ElasticNet = 0.5595492268157068\n",
      "    \n"
     ]
    }
   ],
   "source": [
    "modelos_regressores(x_treino,y_treino,x_teste,y_teste)"
   ]
  },
  {
   "cell_type": "code",
   "execution_count": 11,
   "id": "quiet-individual",
   "metadata": {},
   "outputs": [],
   "source": [
    "#Separando em 5 KFold\n",
    "from sklearn.model_selection import cross_val_score\n",
    "from sklearn.model_selection import KFold\n",
    "from sklearn.linear_model import LinearRegression\n",
    "\n",
    "modelo = LinearRegression()\n",
    "kfold = KFold(n_splits=5)\n",
    "resultado = cross_val_score(modelo,previsores,classe,cv=kfold)"
   ]
  },
  {
   "cell_type": "code",
   "execution_count": 12,
   "id": "distributed-union",
   "metadata": {},
   "outputs": [
    {
     "name": "stdout",
     "output_type": "stream",
     "text": [
      "[0.67763918 0.79424809 0.86447645 0.81935698 0.89828691]\n"
     ]
    }
   ],
   "source": [
    "print(resultado)"
   ]
  },
  {
   "cell_type": "code",
   "execution_count": 13,
   "id": "amazing-optimum",
   "metadata": {},
   "outputs": [
    {
     "name": "stdout",
     "output_type": "stream",
     "text": [
      "0.8108015220863883\n"
     ]
    }
   ],
   "source": [
    "print(resultado.mean())"
   ]
  },
  {
   "cell_type": "code",
   "execution_count": 25,
   "id": "handmade-samba",
   "metadata": {},
   "outputs": [],
   "source": [
    "#Função para testar vários modelos de regressão com KFold\n",
    "def modelos_regressores_kfold(a,b):\n",
    "    from sklearn.linear_model import LinearRegression\n",
    "    from sklearn.linear_model import Ridge\n",
    "    from sklearn.linear_model import Lasso\n",
    "    from sklearn.linear_model import ElasticNet\n",
    "    from sklearn.model_selection import cross_val_score\n",
    "    from sklearn.model_selection import KFold\n",
    "    \n",
    "    kfold = KFold(n_splits=10)\n",
    "    x = a\n",
    "    y = b\n",
    "    linear = LinearRegression()\n",
    "    ridge = Ridge()\n",
    "    lasso = Lasso()\n",
    "    elastic = ElasticNet()\n",
    "    \n",
    "    resultado_linear = cross_val_score(linear, x, y, cv= kfold)\n",
    "    resultado_ridge = cross_val_score(ridge, x, y, cv= kfold)\n",
    "    resultado_lasso = cross_val_score(lasso, x, y, cv= kfold)\n",
    "    resultado_elastic = cross_val_score(elastic, x, y, cv= kfold)\n",
    "    dic_modelos = {'Linear': resultado_linear.mean(),'Ridge': resultado_ridge.mean(),'Lasso': resultado_lasso.mean(),'ElasticNet': resultado_elastic.mean()}\n",
    "    melhor_modelo = max(dic_modelos, key=dic_modelos.get)\n",
    "    \n",
    "    print(f\"\"\"\n",
    "    Regressão Linear = {resultado_linear.mean()}\n",
    "    Regressão Ridge = {resultado_ridge.mean()}\n",
    "    Regressão Lasso = {resultado_lasso.mean()}\n",
    "    Regressão ElasticNet = {resultado_elastic.mean()}\n",
    "    ------------------------------------------\n",
    "    Melhor modelo: {melhor_modelo}\n",
    "    Valor do modelo: {dic_modelos[melhor_modelo]}\n",
    "    \"\"\")"
   ]
  },
  {
   "cell_type": "code",
   "execution_count": 26,
   "id": "funded-small",
   "metadata": {},
   "outputs": [
    {
     "name": "stdout",
     "output_type": "stream",
     "text": [
      "\n",
      "    Regressão Linear = 0.8131223770253244\n",
      "    Regressão Ridge = 0.813034910244318\n",
      "    Regressão Lasso = 0.2148164268942911\n",
      "    Regressão ElasticNet = 0.5352550870169864\n",
      "    ------------------------------------------\n",
      "    Melhor modelo: Linear\n",
      "    Valor do modelo: 0.8131223770253244\n",
      "    \n"
     ]
    }
   ],
   "source": [
    "modelos_regressores_kfold(previsores,classe)"
   ]
  },
  {
   "cell_type": "code",
   "execution_count": 33,
   "id": "lovely-collapse",
   "metadata": {},
   "outputs": [
    {
     "name": "stdout",
     "output_type": "stream",
     "text": [
      "Melhor score: 0.7819021542408088\n",
      "Melhor alpha: 0.1\n",
      "Melhor score: 0.02\n"
     ]
    }
   ],
   "source": [
    "#Testando vários parâmetros\n",
    "from sklearn.model_selection import RandomizedSearchCV\n",
    "from sklearn.linear_model import ElasticNet\n",
    "\n",
    "#Definindo os valores que serão testados:\n",
    "valores = {'alpha': [0.1,0.5,1,2,5,10,25,50,100,150,200,300,500,750,1000,1500,2000,3000,5000],'l1_ratio':[0.02,0.05,0.1,0.2,0.3,0.4,0.5,0.6,0.7,0.8,0.9]}\n",
    "\n",
    "#Criando o modelo:\n",
    "modelo = ElasticNet()\n",
    "procura = RandomizedSearchCV(estimator = modelo, param_distributions=valores , n_iter=150, cv=5, random_state=15)\n",
    "procura.fit(previsores,classe)\n",
    "\n",
    "#Imprimmindo o resultado:\n",
    "print(f'Melhor score: {procura.best_score_}')\n",
    "print(f'Melhor alpha: {procura.best_estimator_.alpha}')\n",
    "print(f'Melhor score: {procura.best_estimator_.l1_ratio}')"
   ]
  },
  {
   "cell_type": "code",
   "execution_count": 34,
   "id": "opened-formula",
   "metadata": {},
   "outputs": [
    {
     "name": "stdout",
     "output_type": "stream",
     "text": [
      "Melhor score: 0.7819021542408088\n",
      "Melhor alpha: 0.1\n",
      "Melhor score: 0.02\n"
     ]
    }
   ],
   "source": [
    "#Testando vários parâmetros para o ElasticNet\n",
    "from sklearn.model_selection import GridSearchCV\n",
    "from sklearn.linear_model import ElasticNet\n",
    "\n",
    "#Definindo os valores que serão testados:\n",
    "valores = {'alpha':[0.1,0.5,1,2,5,10,25,50,100],'l1_ratio':[0.02,0.05,0.1,0.2,0.3,0.4,0.5,0.8]}\n",
    "\n",
    "#Criando o modelo:\n",
    "modelo = ElasticNet()\n",
    "procura = GridSearchCV(estimator = modelo, param_grid = valores, cv = 5)\n",
    "procura.fit(previsores,classe)\n",
    "\n",
    "#Imprimmindo o resultado:\n",
    "print(f'Melhor score: {procura.best_score_}')\n",
    "print(f'Melhor alpha: {procura.best_estimator_.alpha}')\n",
    "print(f'Melhor score: {procura.best_estimator_.l1_ratio}')"
   ]
  },
  {
   "cell_type": "code",
   "execution_count": null,
   "id": "stuck-queensland",
   "metadata": {},
   "outputs": [],
   "source": []
  }
 ],
 "metadata": {
  "kernelspec": {
   "display_name": "Python 3",
   "language": "python",
   "name": "python3"
  },
  "language_info": {
   "codemirror_mode": {
    "name": "ipython",
    "version": 3
   },
   "file_extension": ".py",
   "mimetype": "text/x-python",
   "name": "python",
   "nbconvert_exporter": "python",
   "pygments_lexer": "ipython3",
   "version": "3.8.5"
  }
 },
 "nbformat": 4,
 "nbformat_minor": 5
}
