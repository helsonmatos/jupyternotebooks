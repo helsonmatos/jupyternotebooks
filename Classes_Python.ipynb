{
  "nbformat": 4,
  "nbformat_minor": 0,
  "metadata": {
    "colab": {
      "name": "Classes Python",
      "provenance": [],
      "collapsed_sections": [],
      "authorship_tag": "ABX9TyMaMrDTTvLnnntFgrVcaCOf",
      "include_colab_link": true
    },
    "kernelspec": {
      "name": "python3",
      "display_name": "Python 3"
    },
    "language_info": {
      "name": "python"
    }
  },
  "cells": [
    {
      "cell_type": "markdown",
      "metadata": {
        "id": "view-in-github",
        "colab_type": "text"
      },
      "source": [
        "<a href=\"https://colab.research.google.com/github/helsonmatos/jupyternotebooks/blob/main/Classes_Python.ipynb\" target=\"_parent\"><img src=\"https://colab.research.google.com/assets/colab-badge.svg\" alt=\"Open In Colab\"/></a>"
      ]
    },
    {
      "cell_type": "markdown",
      "metadata": {
        "id": "PzES610NhjCL"
      },
      "source": [
        "#Orientação a objetos:\n"
      ]
    },
    {
      "cell_type": "code",
      "metadata": {
        "id": "pLCQcNtyhoDr"
      },
      "source": [
        "def teste(v, i):\n",
        "    valor = v\n",
        "    incremento = i\n",
        "    resultado = valor + incremento\n",
        "    return resultado"
      ],
      "execution_count": 1,
      "outputs": []
    },
    {
      "cell_type": "code",
      "metadata": {
        "id": "1M7rMDSIiIoe"
      },
      "source": [
        "a = teste(10,1)"
      ],
      "execution_count": 2,
      "outputs": []
    },
    {
      "cell_type": "code",
      "metadata": {
        "colab": {
          "base_uri": "https://localhost:8080/"
        },
        "id": "jbyGDgehiKUE",
        "outputId": "0b8042b0-178e-4b2d-d864-dace90342e2c"
      },
      "source": [
        "a"
      ],
      "execution_count": 3,
      "outputs": [
        {
          "output_type": "execute_result",
          "data": {
            "text/plain": [
              "11"
            ]
          },
          "metadata": {
            "tags": []
          },
          "execution_count": 3
        }
      ]
    },
    {
      "cell_type": "markdown",
      "metadata": {
        "id": "pF9h_p5niPMs"
      },
      "source": [
        "### Classes e métodos:"
      ]
    },
    {
      "cell_type": "code",
      "metadata": {
        "id": "H5rRWbk2iR8L"
      },
      "source": [
        "class DidaticaTech:\n",
        "    def incrementa(self, v, i):\n",
        "        valor = v\n",
        "        incremento = i\n",
        "        resultado = valor + incremento\n",
        "        return resultado"
      ],
      "execution_count": 4,
      "outputs": []
    },
    {
      "cell_type": "code",
      "metadata": {
        "id": "yF-y2ojnisMi"
      },
      "source": [
        "a = DidaticaTech()"
      ],
      "execution_count": 5,
      "outputs": []
    },
    {
      "cell_type": "code",
      "metadata": {
        "id": "IqQdmGdLiu2C"
      },
      "source": [
        "b = a.incrementa(10,1)"
      ],
      "execution_count": 6,
      "outputs": []
    },
    {
      "cell_type": "code",
      "metadata": {
        "colab": {
          "base_uri": "https://localhost:8080/"
        },
        "id": "CGSDGNLMizTz",
        "outputId": "fd07fb5b-9dec-444e-b02d-f57dd01c9237"
      },
      "source": [
        "b"
      ],
      "execution_count": 7,
      "outputs": [
        {
          "output_type": "execute_result",
          "data": {
            "text/plain": [
              "11"
            ]
          },
          "metadata": {
            "tags": []
          },
          "execution_count": 7
        }
      ]
    },
    {
      "cell_type": "code",
      "metadata": {
        "colab": {
          "base_uri": "https://localhost:8080/",
          "height": 163
        },
        "id": "pYz6_Zwoi0ur",
        "outputId": "77edefa7-7300-4cb5-bf74-4b4adf2553ca"
      },
      "source": [
        "valor"
      ],
      "execution_count": 8,
      "outputs": [
        {
          "output_type": "error",
          "ename": "NameError",
          "evalue": "ignored",
          "traceback": [
            "\u001b[0;31m---------------------------------------------------------------------------\u001b[0m",
            "\u001b[0;31mNameError\u001b[0m                                 Traceback (most recent call last)",
            "\u001b[0;32m<ipython-input-8-57d0d821be24>\u001b[0m in \u001b[0;36m<module>\u001b[0;34m()\u001b[0m\n\u001b[0;32m----> 1\u001b[0;31m \u001b[0mvalor\u001b[0m\u001b[0;34m\u001b[0m\u001b[0;34m\u001b[0m\u001b[0m\n\u001b[0m",
            "\u001b[0;31mNameError\u001b[0m: name 'valor' is not defined"
          ]
        }
      ]
    },
    {
      "cell_type": "code",
      "metadata": {
        "id": "9Rjgxa6wkZ__"
      },
      "source": [
        "class DidaticaTech:\n",
        "    def incrementa(self, v, i):\n",
        "        self.valor = v\n",
        "        self.incremento = i\n",
        "        self.resultado = self.valor + self.incremento\n",
        "        return self.resultado"
      ],
      "execution_count": 14,
      "outputs": []
    },
    {
      "cell_type": "code",
      "metadata": {
        "id": "UUMYm_NTkha0"
      },
      "source": [
        "a = DidaticaTech()"
      ],
      "execution_count": 16,
      "outputs": []
    },
    {
      "cell_type": "code",
      "metadata": {
        "colab": {
          "base_uri": "https://localhost:8080/"
        },
        "id": "8M7hYXo4kk6a",
        "outputId": "2b27eaaf-cbd9-41b3-e67d-a0319429b47c"
      },
      "source": [
        "a.incrementa(10,1)"
      ],
      "execution_count": 17,
      "outputs": [
        {
          "output_type": "execute_result",
          "data": {
            "text/plain": [
              "11"
            ]
          },
          "metadata": {
            "tags": []
          },
          "execution_count": 17
        }
      ]
    },
    {
      "cell_type": "code",
      "metadata": {
        "colab": {
          "base_uri": "https://localhost:8080/"
        },
        "id": "uv-UkKDBko0M",
        "outputId": "985ba52d-01c5-4120-90cc-7dbe3f2f1c9e"
      },
      "source": [
        "a.valor"
      ],
      "execution_count": 18,
      "outputs": [
        {
          "output_type": "execute_result",
          "data": {
            "text/plain": [
              "10"
            ]
          },
          "metadata": {
            "tags": []
          },
          "execution_count": 18
        }
      ]
    },
    {
      "cell_type": "code",
      "metadata": {
        "id": "_9TVkQQllC33"
      },
      "source": [
        "class DidaticaTech:\n",
        "    def __init__(self, v:int, i:int):\n",
        "        self.valor = v\n",
        "        self.incremento = i\n",
        "    def incrementa(self):\n",
        "        self.valor = self.valor + self.incremento"
      ],
      "execution_count": 23,
      "outputs": []
    },
    {
      "cell_type": "code",
      "metadata": {
        "id": "Y2HeESqPmCmU"
      },
      "source": [
        "a = DidaticaTech(10,1)"
      ],
      "execution_count": 24,
      "outputs": []
    },
    {
      "cell_type": "code",
      "metadata": {
        "id": "mkBDuIN9mFk2"
      },
      "source": [
        "a.incrementa()"
      ],
      "execution_count": 27,
      "outputs": []
    },
    {
      "cell_type": "code",
      "metadata": {
        "colab": {
          "base_uri": "https://localhost:8080/"
        },
        "id": "ZA0qKQu7mqLJ",
        "outputId": "9a2575bd-2556-49b1-c42b-034be4ed272b"
      },
      "source": [
        "a.valor"
      ],
      "execution_count": 28,
      "outputs": [
        {
          "output_type": "execute_result",
          "data": {
            "text/plain": [
              "12"
            ]
          },
          "metadata": {
            "tags": []
          },
          "execution_count": 28
        }
      ]
    },
    {
      "cell_type": "code",
      "metadata": {
        "id": "VxyU77Zcm5H8"
      },
      "source": [
        "b = DidaticaTech(10,1)"
      ],
      "execution_count": 30,
      "outputs": []
    },
    {
      "cell_type": "code",
      "metadata": {
        "colab": {
          "base_uri": "https://localhost:8080/"
        },
        "id": "lIUuUmJom-Kw",
        "outputId": "91b0a7c0-2be7-4c55-9498-bbb2abf2be16"
      },
      "source": [
        "a.valor + b.valor"
      ],
      "execution_count": 32,
      "outputs": [
        {
          "output_type": "execute_result",
          "data": {
            "text/plain": [
              "22"
            ]
          },
          "metadata": {
            "tags": []
          },
          "execution_count": 32
        }
      ]
    },
    {
      "cell_type": "markdown",
      "metadata": {
        "id": "4XS4ec0Fn4Hk"
      },
      "source": [
        "Depois de instanciarmos a = ClasseTeste(), quando executarmos o incrementa(), o que o interpretador está fazendo é: **ClasseTeste().incrementa(a, 10, 1).**"
      ]
    },
    {
      "cell_type": "code",
      "metadata": {
        "id": "Kb4rh6-Hobru"
      },
      "source": [
        "class DidaticaTech:\n",
        "    def __init__(self, v=10, i=1):\n",
        "        self.valor = v\n",
        "        self.incremento = i\n",
        "        self.valor_exponencial = v\n",
        "    def incrementa(self):\n",
        "        self.valor = self.valor + self.incremento\n",
        "    def verifica(self):\n",
        "        if self.valor > 12:\n",
        "            print('ultrapassou 12')\n",
        "        else:\n",
        "            print('Não ultrapassou 12')\n",
        "    def exponencial(self, e):\n",
        "        self.valor_exponencial = self.valor**e\n",
        "    def incrementa_quadrado(self):\n",
        "        self.incrementa()\n",
        "        self.exponencial(2)"
      ],
      "execution_count": 55,
      "outputs": []
    },
    {
      "cell_type": "code",
      "metadata": {
        "id": "iaTTTiETp4WP"
      },
      "source": [
        "a = DidaticaTech()"
      ],
      "execution_count": 56,
      "outputs": []
    },
    {
      "cell_type": "code",
      "metadata": {
        "id": "NghxdT_KqAHR"
      },
      "source": [
        "a.incrementa()"
      ],
      "execution_count": 57,
      "outputs": []
    },
    {
      "cell_type": "code",
      "metadata": {
        "colab": {
          "base_uri": "https://localhost:8080/"
        },
        "id": "lodss5vwqOPr",
        "outputId": "1f13f6d3-a646-4593-b60f-79a41734f899"
      },
      "source": [
        "a.verifica()"
      ],
      "execution_count": 58,
      "outputs": [
        {
          "output_type": "stream",
          "text": [
            "Não ultrapassou 12\n"
          ],
          "name": "stdout"
        }
      ]
    },
    {
      "cell_type": "code",
      "metadata": {
        "id": "bBab8XcEqPar"
      },
      "source": [
        "a.incrementa()"
      ],
      "execution_count": 59,
      "outputs": []
    },
    {
      "cell_type": "code",
      "metadata": {
        "colab": {
          "base_uri": "https://localhost:8080/"
        },
        "id": "r_G_WQVuqRh-",
        "outputId": "9b82ac3f-9f57-4516-f5af-a5b01453632d"
      },
      "source": [
        "a.verifica()"
      ],
      "execution_count": 60,
      "outputs": [
        {
          "output_type": "stream",
          "text": [
            "Não ultrapassou 12\n"
          ],
          "name": "stdout"
        }
      ]
    },
    {
      "cell_type": "code",
      "metadata": {
        "id": "QsJhhGEiqTyW"
      },
      "source": [
        "a.incrementa_quadrado()"
      ],
      "execution_count": 61,
      "outputs": []
    },
    {
      "cell_type": "code",
      "metadata": {
        "colab": {
          "base_uri": "https://localhost:8080/"
        },
        "id": "RKxErimZqXD3",
        "outputId": "20f275ba-ca81-4084-9dfb-8b98c0e9dde2"
      },
      "source": [
        "a.verifica()"
      ],
      "execution_count": 62,
      "outputs": [
        {
          "output_type": "stream",
          "text": [
            "ultrapassou 12\n"
          ],
          "name": "stdout"
        }
      ]
    },
    {
      "cell_type": "code",
      "metadata": {
        "colab": {
          "base_uri": "https://localhost:8080/"
        },
        "id": "q8uSeQXNqfhi",
        "outputId": "091fef7f-1f26-4261-ef0c-8eb738627838"
      },
      "source": [
        "a.valor_exponencial"
      ],
      "execution_count": 63,
      "outputs": [
        {
          "output_type": "execute_result",
          "data": {
            "text/plain": [
              "169"
            ]
          },
          "metadata": {
            "tags": []
          },
          "execution_count": 63
        }
      ]
    },
    {
      "cell_type": "code",
      "metadata": {
        "id": "ZlqycD7kr5rz"
      },
      "source": [
        "class Calculos(DidaticaTech):\n",
        "    pass"
      ],
      "execution_count": 64,
      "outputs": []
    },
    {
      "cell_type": "code",
      "metadata": {
        "id": "Sn1SRXrYs8Fr"
      },
      "source": [
        "lol = Calculos()"
      ],
      "execution_count": 65,
      "outputs": []
    },
    {
      "cell_type": "code",
      "metadata": {
        "id": "gvDeOYals-Lg"
      },
      "source": [
        "lol.incrementa()"
      ],
      "execution_count": 66,
      "outputs": []
    },
    {
      "cell_type": "code",
      "metadata": {
        "colab": {
          "base_uri": "https://localhost:8080/"
        },
        "id": "LZLJXJMutS6_",
        "outputId": "4330e95f-d852-4980-a077-eb0a86bfed64"
      },
      "source": [
        "lol.valor"
      ],
      "execution_count": 67,
      "outputs": [
        {
          "output_type": "execute_result",
          "data": {
            "text/plain": [
              "11"
            ]
          },
          "metadata": {
            "tags": []
          },
          "execution_count": 67
        }
      ]
    },
    {
      "cell_type": "code",
      "metadata": {
        "id": "lJpsiF74tUXe"
      },
      "source": [
        "class Calculos(DidaticaTech):\n",
        "    def decrementa(self):\n",
        "        self.valor = self.valor - self.incremento"
      ],
      "execution_count": 70,
      "outputs": []
    },
    {
      "cell_type": "code",
      "metadata": {
        "id": "YxwxKN_Rth79"
      },
      "source": [
        "lol = Calculos()"
      ],
      "execution_count": 71,
      "outputs": []
    },
    {
      "cell_type": "code",
      "metadata": {
        "id": "kAqc30INtklm"
      },
      "source": [
        "lol.decrementa()"
      ],
      "execution_count": 72,
      "outputs": []
    },
    {
      "cell_type": "code",
      "metadata": {
        "colab": {
          "base_uri": "https://localhost:8080/"
        },
        "id": "9wKR11yWtv5S",
        "outputId": "f3a6eb0e-6ca4-45a0-f2ff-4f8d7fa7d75a"
      },
      "source": [
        "lol.valor"
      ],
      "execution_count": 73,
      "outputs": [
        {
          "output_type": "execute_result",
          "data": {
            "text/plain": [
              "9"
            ]
          },
          "metadata": {
            "tags": []
          },
          "execution_count": 73
        }
      ]
    },
    {
      "cell_type": "code",
      "metadata": {
        "id": "KfnY0M2vtwnl"
      },
      "source": [
        "class Calculos(DidaticaTech):\n",
        "    def __init__(self, d=5):\n",
        "        self.divisor = d\n",
        "    def decrementa(self):\n",
        "        self.valor = self.valor - self.incremento\n",
        "    def divide(self):\n",
        "        self.valor = self.valor / self.divisor"
      ],
      "execution_count": 74,
      "outputs": []
    },
    {
      "cell_type": "code",
      "metadata": {
        "id": "w3p3fmRdvfsi"
      },
      "source": [
        "cal = Calculos()"
      ],
      "execution_count": 75,
      "outputs": []
    },
    {
      "cell_type": "code",
      "metadata": {
        "colab": {
          "base_uri": "https://localhost:8080/",
          "height": 282
        },
        "id": "Dyv4irGZviA2",
        "outputId": "1dbe7898-0bc5-4ed1-8096-4dd5c8be567e"
      },
      "source": [
        "cal.incrementa()"
      ],
      "execution_count": 76,
      "outputs": [
        {
          "output_type": "error",
          "ename": "AttributeError",
          "evalue": "ignored",
          "traceback": [
            "\u001b[0;31m---------------------------------------------------------------------------\u001b[0m",
            "\u001b[0;31mAttributeError\u001b[0m                            Traceback (most recent call last)",
            "\u001b[0;32m<ipython-input-76-a5f54721ce5b>\u001b[0m in \u001b[0;36m<module>\u001b[0;34m()\u001b[0m\n\u001b[0;32m----> 1\u001b[0;31m \u001b[0mcal\u001b[0m\u001b[0;34m.\u001b[0m\u001b[0mincrementa\u001b[0m\u001b[0;34m(\u001b[0m\u001b[0;34m)\u001b[0m\u001b[0;34m\u001b[0m\u001b[0;34m\u001b[0m\u001b[0m\n\u001b[0m",
            "\u001b[0;32m<ipython-input-55-4f2dc8fcbfee>\u001b[0m in \u001b[0;36mincrementa\u001b[0;34m(self)\u001b[0m\n\u001b[1;32m      5\u001b[0m         \u001b[0mself\u001b[0m\u001b[0;34m.\u001b[0m\u001b[0mvalor_exponencial\u001b[0m \u001b[0;34m=\u001b[0m \u001b[0mv\u001b[0m\u001b[0;34m\u001b[0m\u001b[0;34m\u001b[0m\u001b[0m\n\u001b[1;32m      6\u001b[0m     \u001b[0;32mdef\u001b[0m \u001b[0mincrementa\u001b[0m\u001b[0;34m(\u001b[0m\u001b[0mself\u001b[0m\u001b[0;34m)\u001b[0m\u001b[0;34m:\u001b[0m\u001b[0;34m\u001b[0m\u001b[0;34m\u001b[0m\u001b[0m\n\u001b[0;32m----> 7\u001b[0;31m         \u001b[0mself\u001b[0m\u001b[0;34m.\u001b[0m\u001b[0mvalor\u001b[0m \u001b[0;34m=\u001b[0m \u001b[0mself\u001b[0m\u001b[0;34m.\u001b[0m\u001b[0mvalor\u001b[0m \u001b[0;34m+\u001b[0m \u001b[0mself\u001b[0m\u001b[0;34m.\u001b[0m\u001b[0mincremento\u001b[0m\u001b[0;34m\u001b[0m\u001b[0;34m\u001b[0m\u001b[0m\n\u001b[0m\u001b[1;32m      8\u001b[0m     \u001b[0;32mdef\u001b[0m \u001b[0mverifica\u001b[0m\u001b[0;34m(\u001b[0m\u001b[0mself\u001b[0m\u001b[0;34m)\u001b[0m\u001b[0;34m:\u001b[0m\u001b[0;34m\u001b[0m\u001b[0;34m\u001b[0m\u001b[0m\n\u001b[1;32m      9\u001b[0m         \u001b[0;32mif\u001b[0m \u001b[0mself\u001b[0m\u001b[0;34m.\u001b[0m\u001b[0mvalor\u001b[0m \u001b[0;34m>\u001b[0m \u001b[0;36m12\u001b[0m\u001b[0;34m:\u001b[0m\u001b[0;34m\u001b[0m\u001b[0;34m\u001b[0m\u001b[0m\n",
            "\u001b[0;31mAttributeError\u001b[0m: 'Calculos' object has no attribute 'valor'"
          ]
        }
      ]
    },
    {
      "cell_type": "code",
      "metadata": {
        "id": "OAtulgeIvkFT"
      },
      "source": [
        "class Calculos(DidaticaTech):\n",
        "    def __init__(self, d=5):\n",
        "        super().__init__()\n",
        "        self.divisor = d\n",
        "    def decrementa(self):\n",
        "        self.valor = self.valor - self.incremento\n",
        "    def divide(self):\n",
        "        self.valor = self.valor / self.divisor"
      ],
      "execution_count": 78,
      "outputs": []
    },
    {
      "cell_type": "code",
      "metadata": {
        "id": "QE0jES5ZwBiK"
      },
      "source": [
        "cal = Calculos()"
      ],
      "execution_count": 79,
      "outputs": []
    },
    {
      "cell_type": "code",
      "metadata": {
        "id": "bfeeC7AjwDCC"
      },
      "source": [
        "cal.incrementa()"
      ],
      "execution_count": 80,
      "outputs": []
    },
    {
      "cell_type": "code",
      "metadata": {
        "colab": {
          "base_uri": "https://localhost:8080/"
        },
        "id": "IFrzwJg6wFJP",
        "outputId": "943f073c-3c81-4397-eee1-a196b575d771"
      },
      "source": [
        "cal.valor"
      ],
      "execution_count": 81,
      "outputs": [
        {
          "output_type": "execute_result",
          "data": {
            "text/plain": [
              "11"
            ]
          },
          "metadata": {
            "tags": []
          },
          "execution_count": 81
        }
      ]
    },
    {
      "cell_type": "code",
      "metadata": {
        "id": "AbTt0InewGRv"
      },
      "source": [
        "cal.divide()"
      ],
      "execution_count": 82,
      "outputs": []
    },
    {
      "cell_type": "code",
      "metadata": {
        "colab": {
          "base_uri": "https://localhost:8080/"
        },
        "id": "ojcxZTXXwTQT",
        "outputId": "3a857747-4497-41f7-fe45-9249000305cc"
      },
      "source": [
        "cal.valor"
      ],
      "execution_count": 83,
      "outputs": [
        {
          "output_type": "execute_result",
          "data": {
            "text/plain": [
              "2.2"
            ]
          },
          "metadata": {
            "tags": []
          },
          "execution_count": 83
        }
      ]
    },
    {
      "cell_type": "code",
      "metadata": {
        "id": "BdYDd1ZYwU7a"
      },
      "source": [
        ""
      ],
      "execution_count": null,
      "outputs": []
    }
  ]
}